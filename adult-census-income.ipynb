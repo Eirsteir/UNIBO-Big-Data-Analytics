{
 "cells": [
  {
   "cell_type": "markdown",
   "id": "dde6a71e",
   "metadata": {
    "papermill": {
     "duration": 0.014688,
     "end_time": "2023-02-13T12:09:27.117709",
     "exception": false,
     "start_time": "2023-02-13T12:09:27.103021",
     "status": "completed"
    },
    "tags": []
   },
   "source": [
    "## Import libraries"
   ]
  },
  {
   "cell_type": "code",
   "execution_count": 1,
   "id": "9657db5b",
   "metadata": {
    "_cell_guid": "b1076dfc-b9ad-4769-8c92-a6c4dae69d19",
    "_uuid": "8f2839f25d086af736a60e9eeb907d3b93b6e0e5",
    "execution": {
     "iopub.execute_input": "2023-02-13T12:09:27.145284Z",
     "iopub.status.busy": "2023-02-13T12:09:27.144475Z",
     "iopub.status.idle": "2023-02-13T12:09:27.171499Z",
     "shell.execute_reply": "2023-02-13T12:09:27.170551Z"
    },
    "papermill": {
     "duration": 0.044543,
     "end_time": "2023-02-13T12:09:27.175304",
     "exception": false,
     "start_time": "2023-02-13T12:09:27.130761",
     "status": "completed"
    },
    "tags": []
   },
   "outputs": [
    {
     "name": "stdout",
     "output_type": "stream",
     "text": [
      "/kaggle/input/census-income/census-income.test\n",
      "/kaggle/input/census-income/census-income.data\n",
      "/kaggle/input/census-income/census-income.names\n",
      "/kaggle/input/adult-census-income/adult.csv\n"
     ]
    }
   ],
   "source": [
    "# This Python 3 environment comes with many helpful analytics libraries installed\n",
    "# It is defined by the kaggle/python Docker image: https://github.com/kaggle/docker-python\n",
    "# For example, here's several helpful packages to load\n",
    "\n",
    "import numpy as np # linear algebra\n",
    "import pandas as pd # data processing, CSV file I/O (e.g. pd.read_csv)\n",
    "\n",
    "\n",
    "# ignore warnings\n",
    "import warnings\n",
    "warnings.filterwarnings('ignore')\n",
    "\n",
    "\n",
    "# Input data files are available in the read-only \"../input/\" directory\n",
    "# For example, running this (by clicking run or pressing Shift+Enter) will list all files under the input directory\n",
    "\n",
    "import os\n",
    "for dirname, _, filenames in os.walk('/kaggle/input'):\n",
    "    for filename in filenames:\n",
    "        print(os.path.join(dirname, filename))\n",
    "\n",
    "# You can write up to 20GB to the current directory (/kaggle/working/) that gets preserved as output when you create a version using \"Save & Run All\" \n",
    "# You can also write temporary files to /kaggle/temp/, but they won't be saved outside of the current session"
   ]
  },
  {
   "cell_type": "markdown",
   "id": "f3ff7a40",
   "metadata": {
    "papermill": {
     "duration": 0.013874,
     "end_time": "2023-02-13T12:09:27.204717",
     "exception": false,
     "start_time": "2023-02-13T12:09:27.190843",
     "status": "completed"
    },
    "tags": []
   },
   "source": [
    "### Make sure spark is installed "
   ]
  },
  {
   "cell_type": "code",
   "execution_count": 2,
   "id": "05c27a5d",
   "metadata": {
    "execution": {
     "iopub.execute_input": "2023-02-13T12:09:27.235622Z",
     "iopub.status.busy": "2023-02-13T12:09:27.234772Z",
     "iopub.status.idle": "2023-02-13T12:10:30.987284Z",
     "shell.execute_reply": "2023-02-13T12:10:30.985856Z"
    },
    "papermill": {
     "duration": 63.771043,
     "end_time": "2023-02-13T12:10:30.990024",
     "exception": false,
     "start_time": "2023-02-13T12:09:27.218981",
     "status": "completed"
    },
    "tags": []
   },
   "outputs": [
    {
     "name": "stdout",
     "output_type": "stream",
     "text": [
      "Pyspark not found. Installing quietly\n",
      "\u001b[33mWARNING: Running pip as the 'root' user can result in broken permissions and conflicting behaviour with the system package manager. It is recommended to use a virtual environment instead: https://pip.pypa.io/warnings/venv\u001b[0m\u001b[33m\r\n",
      "\u001b[0m"
     ]
    }
   ],
   "source": [
    "try:\n",
    "    import pyspark\n",
    "except ModuleNotFoundError:\n",
    "    print(\"Pyspark not found. Installing quietly\")\n",
    "    !pip install pyspark -q"
   ]
  },
  {
   "cell_type": "markdown",
   "id": "c258898d",
   "metadata": {
    "papermill": {
     "duration": 0.011927,
     "end_time": "2023-02-13T12:10:31.014327",
     "exception": false,
     "start_time": "2023-02-13T12:10:31.002400",
     "status": "completed"
    },
    "tags": []
   },
   "source": [
    "## Create a spark session"
   ]
  },
  {
   "cell_type": "code",
   "execution_count": 3,
   "id": "d9b1e6e0",
   "metadata": {
    "execution": {
     "iopub.execute_input": "2023-02-13T12:10:31.040996Z",
     "iopub.status.busy": "2023-02-13T12:10:31.040487Z",
     "iopub.status.idle": "2023-02-13T12:10:37.895590Z",
     "shell.execute_reply": "2023-02-13T12:10:37.894597Z"
    },
    "papermill": {
     "duration": 6.871914,
     "end_time": "2023-02-13T12:10:37.898520",
     "exception": false,
     "start_time": "2023-02-13T12:10:31.026606",
     "status": "completed"
    },
    "tags": []
   },
   "outputs": [
    {
     "name": "stderr",
     "output_type": "stream",
     "text": [
      "Setting default log level to \"WARN\".\n",
      "To adjust logging level use sc.setLogLevel(newLevel). For SparkR, use setLogLevel(newLevel).\n"
     ]
    },
    {
     "name": "stdout",
     "output_type": "stream",
     "text": [
      "23/02/13 12:10:34 WARN NativeCodeLoader: Unable to load native-hadoop library for your platform... using builtin-java classes where applicable\n"
     ]
    },
    {
     "data": {
      "text/html": [
       "\n",
       "            <div>\n",
       "                <p><b>SparkSession - in-memory</b></p>\n",
       "                \n",
       "        <div>\n",
       "            <p><b>SparkContext</b></p>\n",
       "\n",
       "            <p><a href=\"http://6db870bba6a6:4040\">Spark UI</a></p>\n",
       "\n",
       "            <dl>\n",
       "              <dt>Version</dt>\n",
       "                <dd><code>v3.3.1</code></dd>\n",
       "              <dt>Master</dt>\n",
       "                <dd><code>local[*]</code></dd>\n",
       "              <dt>AppName</dt>\n",
       "                <dd><code>pyspark-shell</code></dd>\n",
       "            </dl>\n",
       "        </div>\n",
       "        \n",
       "            </div>\n",
       "        "
      ],
      "text/plain": [
       "<pyspark.sql.session.SparkSession at 0x7f79c87f10d0>"
      ]
     },
     "execution_count": 3,
     "metadata": {},
     "output_type": "execute_result"
    }
   ],
   "source": [
    "from pyspark.sql import SparkSession\n",
    "\n",
    "spark = SparkSession.builder.getOrCreate()\n",
    "spark"
   ]
  },
  {
   "cell_type": "markdown",
   "id": "4576bfc9",
   "metadata": {
    "papermill": {
     "duration": 0.012728,
     "end_time": "2023-02-13T12:10:37.924963",
     "exception": false,
     "start_time": "2023-02-13T12:10:37.912235",
     "status": "completed"
    },
    "tags": []
   },
   "source": [
    "## Dataset description\n",
    "\n",
    "In this project I use the US Census-Income dataset available on UCI's archive. This dataset contains 299 285 patterns and 40 features of weighted census data. The data contains demographic and employment related variables. \n",
    "\n",
    "The main task for the dataset is classification, with the goal of deciding if a person will earn above or below $50K/year. \n",
    "\n",
    "The two classes are: \n",
    "\n",
    "1. Below $50K.\n",
    "\n",
    "2. Above $50K.\n",
    "\n",
    "\n",
    "#### General information\n",
    "- Name: Census-Income (KDD)\n",
    "- Location: https://archive.ics.uci.edu/ml/datasets/Census-Income+%28KDD%29\n",
    "    - Download the census.tar.gz file\n",
    "- Documentation: https://archive.ics.uci.edu/ml/machine-learning-databases/census-income-mld/census-income.names\n",
    "- Files:\n",
    "    - Training set: census-income.data\n",
    "    - Testing set: census-income.test\n",
    "\n",
    "\n",
    "#### Dataset columns are:\n",
    "\n",
    "0. age\n",
    "1. class of worker\n",
    "2. industry code\n",
    "3. occupation code\n",
    "4. education\n",
    "5. wage per hour\n",
    "6. enrolled in edu inst last wk\n",
    "7. marital status\n",
    "8. major industry code\n",
    "9. major occupation code\n",
    "10. mace\n",
    "11. hispanic Origin\n",
    "12. sex\n",
    "13. member of a labor union\n",
    "14. reason for unemployment\n",
    "15. full or part time employment stat\n",
    "16. capital gains\n",
    "17. capital losses\n",
    "18. divdends from stocks\n",
    "19. tax filer status\n",
    "20. region of previous residence\n",
    "21. state of previous residence\n",
    "22. detailed household and family stat\n",
    "23. detailed household summary in household\n",
    "24. instance weight\n",
    "25. migration code-change in msa\n",
    "26. migration code-change in reg\n",
    "27. migration code-move within reg\n",
    "28. live in this house 1 year ago\n",
    "29. migration prev res in sunbelt\n",
    "30. num persons worked for employer\n",
    "31. family members under 18\n",
    "32. country of birth father\n",
    "33. country of birth mother\n",
    "34. country of birth self\n",
    "35. citizenship\n",
    "36. own business or self employed\n",
    "37. fill inc questionnaire for veteran's admin\n",
    "38. veterans benefits\n",
    "39. weeks worked in year\n",
    "40. year\n",
    "41. income (class)"
   ]
  },
  {
   "cell_type": "markdown",
   "id": "753452cf",
   "metadata": {
    "papermill": {
     "duration": 0.012667,
     "end_time": "2023-02-13T12:10:37.950321",
     "exception": false,
     "start_time": "2023-02-13T12:10:37.937654",
     "status": "completed"
    },
    "tags": []
   },
   "source": [
    "## Import dataset "
   ]
  },
  {
   "cell_type": "code",
   "execution_count": 4,
   "id": "11d9ff60",
   "metadata": {
    "execution": {
     "iopub.execute_input": "2023-02-13T12:10:37.978208Z",
     "iopub.status.busy": "2023-02-13T12:10:37.977644Z",
     "iopub.status.idle": "2023-02-13T12:10:48.733753Z",
     "shell.execute_reply": "2023-02-13T12:10:48.732111Z"
    },
    "papermill": {
     "duration": 10.774644,
     "end_time": "2023-02-13T12:10:48.737733",
     "exception": false,
     "start_time": "2023-02-13T12:10:37.963089",
     "status": "completed"
    },
    "tags": []
   },
   "outputs": [
    {
     "name": "stderr",
     "output_type": "stream",
     "text": [
      "[Stage 3:>                                                          (0 + 4) / 4]\r"
     ]
    },
    {
     "name": "stdout",
     "output_type": "stream",
     "text": [
      "CPU times: user 13.5 ms, sys: 2.29 ms, total: 15.8 ms\n",
      "Wall time: 10.7 s\n"
     ]
    },
    {
     "name": "stderr",
     "output_type": "stream",
     "text": [
      "                                                                                \r"
     ]
    }
   ],
   "source": [
    "%%time\n",
    "\n",
    "df_train = (spark.read\n",
    "          .format(\"csv\")\n",
    "          .option(\"inferSchema\", True)\n",
    "          .load(\"/kaggle/input/census-income/census-income.data\"))\n",
    "\n",
    "df_test = (spark.read\n",
    "          .format(\"csv\")\n",
    "          .option(\"inferSchema\", True)\n",
    "          .load(\"/kaggle/input/census-income/census-income.test\"))"
   ]
  },
  {
   "cell_type": "code",
   "execution_count": 5,
   "id": "978407c1",
   "metadata": {
    "execution": {
     "iopub.execute_input": "2023-02-13T12:10:48.773621Z",
     "iopub.status.busy": "2023-02-13T12:10:48.773210Z",
     "iopub.status.idle": "2023-02-13T12:10:49.439262Z",
     "shell.execute_reply": "2023-02-13T12:10:49.437305Z"
    },
    "papermill": {
     "duration": 0.686333,
     "end_time": "2023-02-13T12:10:49.444411",
     "exception": false,
     "start_time": "2023-02-13T12:10:48.758078",
     "status": "completed"
    },
    "tags": []
   },
   "outputs": [
    {
     "name": "stdout",
     "output_type": "stream",
     "text": [
      "23/02/13 12:10:48 WARN package: Truncated the string representation of a plan since it was too large. This behavior can be adjusted by setting 'spark.sql.debug.maxToStringFields'.\n",
      "+---+--------------------+---+----+--------------------+---+----------------+--------------+--------------------+--------------------+--------------------+----------+-------+----------------+----------------+--------------------+----+----+----+------------------+----------------+----------------+--------------------+--------------------+-------+-----------+------------+------------+--------------------+----------------+----+--------------------+--------------+--------------+--------------+--------------------+----+----------------+----+----+----+---------+\n",
      "|_c0|                 _c1|_c2| _c3|                 _c4|_c5|             _c6|           _c7|                 _c8|                 _c9|                _c10|      _c11|   _c12|            _c13|            _c14|                _c15|_c16|_c17|_c18|              _c19|            _c20|            _c21|                _c22|                _c23|   _c24|       _c25|        _c26|        _c27|                _c28|            _c29|_c30|                _c31|          _c32|          _c33|          _c34|                _c35|_c36|            _c37|_c38|_c39|_c40|     _c41|\n",
      "+---+--------------------+---+----+--------------------+---+----------------+--------------+--------------------+--------------------+--------------------+----------+-------+----------------+----------------+--------------------+----+----+----+------------------+----------------+----------------+--------------------+--------------------+-------+-----------+------------+------------+--------------------+----------------+----+--------------------+--------------+--------------+--------------+--------------------+----+----------------+----+----+----+---------+\n",
      "| 73|     Not in universe|0.0| 0.0| High school grad...|0.0| Not in universe|       Widowed| Not in universe ...|     Not in universe|               White| All other| Female| Not in universe| Not in universe|  Not in labor force| 0.0| 0.0| 0.0|          Nonfiler| Not in universe| Not in universe| Other Rel 18+ ev...| Other relative o...|1700.09|          ?|           ?|           ?| Not in universe ...|               ?| 0.0|     Not in universe| United-States| United-States| United-States| Native- Born in ...| 0.0| Not in universe| 2.0| 0.0|95.0| - 50000.|\n",
      "| 58| Self-employed-no...|4.0|34.0| Some college but...|0.0| Not in universe|      Divorced|        Construction| Precision produc...|               White| All other|   Male| Not in universe| Not in universe| Children or Arme...| 0.0| 0.0| 0.0| Head of household|           South|        Arkansas|         Householder|         Householder|1053.55| MSA to MSA| Same county| Same county|                  No|             Yes| 1.0|     Not in universe| United-States| United-States| United-States| Native- Born in ...| 0.0| Not in universe| 2.0|52.0|94.0| - 50000.|\n",
      "| 18|     Not in universe|0.0| 0.0|          10th grade|0.0|     High school| Never married| Not in universe ...|     Not in universe| Asian or Pacific...| All other| Female| Not in universe| Not in universe|  Not in labor force| 0.0| 0.0| 0.0|          Nonfiler| Not in universe| Not in universe| Child 18+ never ...|   Child 18 or older| 991.95|          ?|           ?|           ?| Not in universe ...|               ?| 0.0|     Not in universe|       Vietnam|       Vietnam|       Vietnam| Foreign born- No...| 0.0| Not in universe| 2.0| 0.0|95.0| - 50000.|\n",
      "|  9|     Not in universe|0.0| 0.0|            Children|0.0| Not in universe| Never married| Not in universe ...|     Not in universe|               White| All other| Female| Not in universe| Not in universe| Children or Arme...| 0.0| 0.0| 0.0|          Nonfiler| Not in universe| Not in universe| Child <18 never ...| Child under 18 n...|1758.14|   Nonmover|    Nonmover|    Nonmover|                 Yes| Not in universe| 0.0| Both parents pre...| United-States| United-States| United-States| Native- Born in ...| 0.0| Not in universe| 0.0| 0.0|94.0| - 50000.|\n",
      "| 10|     Not in universe|0.0| 0.0|            Children|0.0| Not in universe| Never married| Not in universe ...|     Not in universe|               White| All other| Female| Not in universe| Not in universe| Children or Arme...| 0.0| 0.0| 0.0|          Nonfiler| Not in universe| Not in universe| Child <18 never ...| Child under 18 n...|1069.16|   Nonmover|    Nonmover|    Nonmover|                 Yes| Not in universe| 0.0| Both parents pre...| United-States| United-States| United-States| Native- Born in ...| 0.0| Not in universe| 0.0| 0.0|94.0| - 50000.|\n",
      "+---+--------------------+---+----+--------------------+---+----------------+--------------+--------------------+--------------------+--------------------+----------+-------+----------------+----------------+--------------------+----+----+----+------------------+----------------+----------------+--------------------+--------------------+-------+-----------+------------+------------+--------------------+----------------+----+--------------------+--------------+--------------+--------------+--------------------+----+----------------+----+----+----+---------+\n",
      "only showing top 5 rows\n",
      "\n"
     ]
    }
   ],
   "source": [
    "df_train.show(5)"
   ]
  },
  {
   "cell_type": "markdown",
   "id": "7d8c2317",
   "metadata": {
    "papermill": {
     "duration": 0.019425,
     "end_time": "2023-02-13T12:10:49.484794",
     "exception": false,
     "start_time": "2023-02-13T12:10:49.465369",
     "status": "completed"
    },
    "tags": []
   },
   "source": [
    "The dataset does not contain headers, so the column names are encoded as _cx.\n",
    "\n",
    "In the dataset description, it is suggested to drop column _24, so we'll do that for both of the dataframes before we continue:"
   ]
  },
  {
   "cell_type": "code",
   "execution_count": 6,
   "id": "f70c0bac",
   "metadata": {
    "execution": {
     "iopub.execute_input": "2023-02-13T12:10:49.527000Z",
     "iopub.status.busy": "2023-02-13T12:10:49.526149Z",
     "iopub.status.idle": "2023-02-13T12:10:49.582924Z",
     "shell.execute_reply": "2023-02-13T12:10:49.581740Z"
    },
    "papermill": {
     "duration": 0.082424,
     "end_time": "2023-02-13T12:10:49.586475",
     "exception": false,
     "start_time": "2023-02-13T12:10:49.504051",
     "status": "completed"
    },
    "tags": []
   },
   "outputs": [],
   "source": [
    "df_test = df_test.drop(\"_c24\")\n",
    "df_train = df_train.drop(\"_c24\")"
   ]
  },
  {
   "cell_type": "markdown",
   "id": "a66a2aeb",
   "metadata": {
    "papermill": {
     "duration": 0.021643,
     "end_time": "2023-02-13T12:10:49.628105",
     "exception": false,
     "start_time": "2023-02-13T12:10:49.606462",
     "status": "completed"
    },
    "tags": []
   },
   "source": [
    "## Exploratory Data Analysis"
   ]
  },
  {
   "cell_type": "markdown",
   "id": "b1667847",
   "metadata": {
    "papermill": {
     "duration": 0.020593,
     "end_time": "2023-02-13T12:10:49.669667",
     "exception": false,
     "start_time": "2023-02-13T12:10:49.649074",
     "status": "completed"
    },
    "tags": []
   },
   "source": [
    "### Check test/training distribution"
   ]
  },
  {
   "cell_type": "markdown",
   "id": "c28dc1d3",
   "metadata": {
    "papermill": {
     "duration": 0.018878,
     "end_time": "2023-02-13T12:10:49.708615",
     "exception": false,
     "start_time": "2023-02-13T12:10:49.689737",
     "status": "completed"
    },
    "tags": []
   },
   "source": [
    "Lets check how much data we use for training and testing:"
   ]
  },
  {
   "cell_type": "code",
   "execution_count": 7,
   "id": "c8bc206d",
   "metadata": {
    "execution": {
     "iopub.execute_input": "2023-02-13T12:10:49.739788Z",
     "iopub.status.busy": "2023-02-13T12:10:49.739344Z",
     "iopub.status.idle": "2023-02-13T12:10:51.095822Z",
     "shell.execute_reply": "2023-02-13T12:10:51.094637Z"
    },
    "papermill": {
     "duration": 1.374838,
     "end_time": "2023-02-13T12:10:51.099051",
     "exception": false,
     "start_time": "2023-02-13T12:10:49.724213",
     "status": "completed"
    },
    "tags": []
   },
   "outputs": [
    {
     "data": {
      "text/plain": [
       "(199523, 99762)"
      ]
     },
     "execution_count": 7,
     "metadata": {},
     "output_type": "execute_result"
    }
   ],
   "source": [
    "df_train.count(), df_test.count()"
   ]
  },
  {
   "cell_type": "markdown",
   "id": "7fccfa22",
   "metadata": {
    "papermill": {
     "duration": 0.020239,
     "end_time": "2023-02-13T12:10:51.139429",
     "exception": false,
     "start_time": "2023-02-13T12:10:51.119190",
     "status": "completed"
    },
    "tags": []
   },
   "source": [
    "We see that we use about 67% of the data for training and 33% for testing."
   ]
  },
  {
   "cell_type": "markdown",
   "id": "f5f398c8",
   "metadata": {
    "papermill": {
     "duration": 0.019938,
     "end_time": "2023-02-13T12:10:51.180100",
     "exception": false,
     "start_time": "2023-02-13T12:10:51.160162",
     "status": "completed"
    },
    "tags": []
   },
   "source": [
    "### Data types"
   ]
  },
  {
   "cell_type": "markdown",
   "id": "211db68d",
   "metadata": {
    "papermill": {
     "duration": 0.021393,
     "end_time": "2023-02-13T12:10:51.222680",
     "exception": false,
     "start_time": "2023-02-13T12:10:51.201287",
     "status": "completed"
    },
    "tags": []
   },
   "source": [
    "Check what data types we have: "
   ]
  },
  {
   "cell_type": "code",
   "execution_count": 8,
   "id": "d22b1089",
   "metadata": {
    "execution": {
     "iopub.execute_input": "2023-02-13T12:10:51.264334Z",
     "iopub.status.busy": "2023-02-13T12:10:51.263272Z",
     "iopub.status.idle": "2023-02-13T12:10:51.309957Z",
     "shell.execute_reply": "2023-02-13T12:10:51.308748Z"
    },
    "papermill": {
     "duration": 0.071129,
     "end_time": "2023-02-13T12:10:51.313083",
     "exception": false,
     "start_time": "2023-02-13T12:10:51.241954",
     "status": "completed"
    },
    "tags": []
   },
   "outputs": [
    {
     "data": {
      "text/plain": [
       "[('_c0', 'int'),\n",
       " ('_c1', 'string'),\n",
       " ('_c2', 'double'),\n",
       " ('_c3', 'double'),\n",
       " ('_c4', 'string'),\n",
       " ('_c5', 'double'),\n",
       " ('_c6', 'string'),\n",
       " ('_c7', 'string'),\n",
       " ('_c8', 'string'),\n",
       " ('_c9', 'string'),\n",
       " ('_c10', 'string'),\n",
       " ('_c11', 'string'),\n",
       " ('_c12', 'string'),\n",
       " ('_c13', 'string'),\n",
       " ('_c14', 'string'),\n",
       " ('_c15', 'string'),\n",
       " ('_c16', 'double'),\n",
       " ('_c17', 'double'),\n",
       " ('_c18', 'double'),\n",
       " ('_c19', 'string'),\n",
       " ('_c20', 'string'),\n",
       " ('_c21', 'string'),\n",
       " ('_c22', 'string'),\n",
       " ('_c23', 'string'),\n",
       " ('_c25', 'string'),\n",
       " ('_c26', 'string'),\n",
       " ('_c27', 'string'),\n",
       " ('_c28', 'string'),\n",
       " ('_c29', 'string'),\n",
       " ('_c30', 'double'),\n",
       " ('_c31', 'string'),\n",
       " ('_c32', 'string'),\n",
       " ('_c33', 'string'),\n",
       " ('_c34', 'string'),\n",
       " ('_c35', 'string'),\n",
       " ('_c36', 'double'),\n",
       " ('_c37', 'string'),\n",
       " ('_c38', 'double'),\n",
       " ('_c39', 'double'),\n",
       " ('_c40', 'double'),\n",
       " ('_c41', 'string')]"
      ]
     },
     "execution_count": 8,
     "metadata": {},
     "output_type": "execute_result"
    }
   ],
   "source": [
    "df_train.dtypes"
   ]
  },
  {
   "cell_type": "markdown",
   "id": "82684246",
   "metadata": {
    "papermill": {
     "duration": 0.021482,
     "end_time": "2023-02-13T12:10:51.356591",
     "exception": false,
     "start_time": "2023-02-13T12:10:51.335109",
     "status": "completed"
    },
    "tags": []
   },
   "source": [
    "### Preview dataset"
   ]
  },
  {
   "cell_type": "code",
   "execution_count": 9,
   "id": "2ffc2261",
   "metadata": {
    "execution": {
     "iopub.execute_input": "2023-02-13T12:10:51.405258Z",
     "iopub.status.busy": "2023-02-13T12:10:51.404244Z",
     "iopub.status.idle": "2023-02-13T12:10:51.806805Z",
     "shell.execute_reply": "2023-02-13T12:10:51.804489Z"
    },
    "papermill": {
     "duration": 0.431339,
     "end_time": "2023-02-13T12:10:51.810612",
     "exception": false,
     "start_time": "2023-02-13T12:10:51.379273",
     "status": "completed"
    },
    "tags": []
   },
   "outputs": [
    {
     "name": "stdout",
     "output_type": "stream",
     "text": [
      "+---+--------------------+---+----+--------------------+---+----------------+--------------+--------------------+--------------------+--------------------+----------+-------+----------------+----------------+--------------------+----+----+----+------------------+----------------+----------------+--------------------+--------------------+-----------+------------+------------+--------------------+----------------+----+--------------------+--------------+--------------+--------------+--------------------+----+----------------+----+----+----+---------+\n",
      "|_c0|                 _c1|_c2| _c3|                 _c4|_c5|             _c6|           _c7|                 _c8|                 _c9|                _c10|      _c11|   _c12|            _c13|            _c14|                _c15|_c16|_c17|_c18|              _c19|            _c20|            _c21|                _c22|                _c23|       _c25|        _c26|        _c27|                _c28|            _c29|_c30|                _c31|          _c32|          _c33|          _c34|                _c35|_c36|            _c37|_c38|_c39|_c40|     _c41|\n",
      "+---+--------------------+---+----+--------------------+---+----------------+--------------+--------------------+--------------------+--------------------+----------+-------+----------------+----------------+--------------------+----+----+----+------------------+----------------+----------------+--------------------+--------------------+-----------+------------+------------+--------------------+----------------+----+--------------------+--------------+--------------+--------------+--------------------+----+----------------+----+----+----+---------+\n",
      "| 73|     Not in universe|0.0| 0.0| High school grad...|0.0| Not in universe|       Widowed| Not in universe ...|     Not in universe|               White| All other| Female| Not in universe| Not in universe|  Not in labor force| 0.0| 0.0| 0.0|          Nonfiler| Not in universe| Not in universe| Other Rel 18+ ev...| Other relative o...|          ?|           ?|           ?| Not in universe ...|               ?| 0.0|     Not in universe| United-States| United-States| United-States| Native- Born in ...| 0.0| Not in universe| 2.0| 0.0|95.0| - 50000.|\n",
      "| 58| Self-employed-no...|4.0|34.0| Some college but...|0.0| Not in universe|      Divorced|        Construction| Precision produc...|               White| All other|   Male| Not in universe| Not in universe| Children or Arme...| 0.0| 0.0| 0.0| Head of household|           South|        Arkansas|         Householder|         Householder| MSA to MSA| Same county| Same county|                  No|             Yes| 1.0|     Not in universe| United-States| United-States| United-States| Native- Born in ...| 0.0| Not in universe| 2.0|52.0|94.0| - 50000.|\n",
      "| 18|     Not in universe|0.0| 0.0|          10th grade|0.0|     High school| Never married| Not in universe ...|     Not in universe| Asian or Pacific...| All other| Female| Not in universe| Not in universe|  Not in labor force| 0.0| 0.0| 0.0|          Nonfiler| Not in universe| Not in universe| Child 18+ never ...|   Child 18 or older|          ?|           ?|           ?| Not in universe ...|               ?| 0.0|     Not in universe|       Vietnam|       Vietnam|       Vietnam| Foreign born- No...| 0.0| Not in universe| 2.0| 0.0|95.0| - 50000.|\n",
      "|  9|     Not in universe|0.0| 0.0|            Children|0.0| Not in universe| Never married| Not in universe ...|     Not in universe|               White| All other| Female| Not in universe| Not in universe| Children or Arme...| 0.0| 0.0| 0.0|          Nonfiler| Not in universe| Not in universe| Child <18 never ...| Child under 18 n...|   Nonmover|    Nonmover|    Nonmover|                 Yes| Not in universe| 0.0| Both parents pre...| United-States| United-States| United-States| Native- Born in ...| 0.0| Not in universe| 0.0| 0.0|94.0| - 50000.|\n",
      "| 10|     Not in universe|0.0| 0.0|            Children|0.0| Not in universe| Never married| Not in universe ...|     Not in universe|               White| All other| Female| Not in universe| Not in universe| Children or Arme...| 0.0| 0.0| 0.0|          Nonfiler| Not in universe| Not in universe| Child <18 never ...| Child under 18 n...|   Nonmover|    Nonmover|    Nonmover|                 Yes| Not in universe| 0.0| Both parents pre...| United-States| United-States| United-States| Native- Born in ...| 0.0| Not in universe| 0.0| 0.0|94.0| - 50000.|\n",
      "+---+--------------------+---+----+--------------------+---+----------------+--------------+--------------------+--------------------+--------------------+----------+-------+----------------+----------------+--------------------+----+----+----+------------------+----------------+----------------+--------------------+--------------------+-----------+------------+------------+--------------------+----------------+----+--------------------+--------------+--------------+--------------+--------------------+----+----------------+----+----+----+---------+\n",
      "only showing top 5 rows\n",
      "\n"
     ]
    }
   ],
   "source": [
    "df_train.show(5)"
   ]
  },
  {
   "cell_type": "markdown",
   "id": "a19185ca",
   "metadata": {
    "papermill": {
     "duration": 0.014454,
     "end_time": "2023-02-13T12:10:51.840095",
     "exception": false,
     "start_time": "2023-02-13T12:10:51.825641",
     "status": "completed"
    },
    "tags": []
   },
   "source": [
    "### View summary of the dataframe"
   ]
  },
  {
   "cell_type": "code",
   "execution_count": 10,
   "id": "c5696613",
   "metadata": {
    "execution": {
     "iopub.execute_input": "2023-02-13T12:10:51.870666Z",
     "iopub.status.busy": "2023-02-13T12:10:51.870186Z",
     "iopub.status.idle": "2023-02-13T12:11:53.052962Z",
     "shell.execute_reply": "2023-02-13T12:11:53.051592Z"
    },
    "papermill": {
     "duration": 61.201472,
     "end_time": "2023-02-13T12:11:53.055520",
     "exception": false,
     "start_time": "2023-02-13T12:10:51.854048",
     "status": "completed"
    },
    "tags": []
   },
   "outputs": [
    {
     "name": "stderr",
     "output_type": "stream",
     "text": [
      "                                                                                \r"
     ]
    },
    {
     "data": {
      "text/html": [
       "<div>\n",
       "<style scoped>\n",
       "    .dataframe tbody tr th:only-of-type {\n",
       "        vertical-align: middle;\n",
       "    }\n",
       "\n",
       "    .dataframe tbody tr th {\n",
       "        vertical-align: top;\n",
       "    }\n",
       "\n",
       "    .dataframe thead th {\n",
       "        text-align: right;\n",
       "    }\n",
       "</style>\n",
       "<table border=\"1\" class=\"dataframe\">\n",
       "  <thead>\n",
       "    <tr style=\"text-align: right;\">\n",
       "      <th></th>\n",
       "      <th>0</th>\n",
       "      <th>1</th>\n",
       "      <th>2</th>\n",
       "      <th>3</th>\n",
       "      <th>4</th>\n",
       "    </tr>\n",
       "  </thead>\n",
       "  <tbody>\n",
       "    <tr>\n",
       "      <th>summary</th>\n",
       "      <td>count</td>\n",
       "      <td>mean</td>\n",
       "      <td>stddev</td>\n",
       "      <td>min</td>\n",
       "      <td>max</td>\n",
       "    </tr>\n",
       "    <tr>\n",
       "      <th>_c0</th>\n",
       "      <td>199523</td>\n",
       "      <td>34.494198663813194</td>\n",
       "      <td>22.310895206650255</td>\n",
       "      <td>0</td>\n",
       "      <td>90</td>\n",
       "    </tr>\n",
       "    <tr>\n",
       "      <th>_c1</th>\n",
       "      <td>199523</td>\n",
       "      <td>None</td>\n",
       "      <td>None</td>\n",
       "      <td>Federal government</td>\n",
       "      <td>Without pay</td>\n",
       "    </tr>\n",
       "    <tr>\n",
       "      <th>_c2</th>\n",
       "      <td>199523</td>\n",
       "      <td>15.352320283877047</td>\n",
       "      <td>18.067128797857993</td>\n",
       "      <td>0.0</td>\n",
       "      <td>51.0</td>\n",
       "    </tr>\n",
       "    <tr>\n",
       "      <th>_c3</th>\n",
       "      <td>199523</td>\n",
       "      <td>11.306556136385279</td>\n",
       "      <td>14.454203916353702</td>\n",
       "      <td>0.0</td>\n",
       "      <td>46.0</td>\n",
       "    </tr>\n",
       "    <tr>\n",
       "      <th>_c4</th>\n",
       "      <td>199523</td>\n",
       "      <td>None</td>\n",
       "      <td>None</td>\n",
       "      <td>10th grade</td>\n",
       "      <td>Some college but no degree</td>\n",
       "    </tr>\n",
       "    <tr>\n",
       "      <th>_c5</th>\n",
       "      <td>199523</td>\n",
       "      <td>55.426908175999756</td>\n",
       "      <td>274.8964539028428</td>\n",
       "      <td>0.0</td>\n",
       "      <td>9999.0</td>\n",
       "    </tr>\n",
       "    <tr>\n",
       "      <th>_c6</th>\n",
       "      <td>199523</td>\n",
       "      <td>None</td>\n",
       "      <td>None</td>\n",
       "      <td>College or university</td>\n",
       "      <td>Not in universe</td>\n",
       "    </tr>\n",
       "    <tr>\n",
       "      <th>_c7</th>\n",
       "      <td>199523</td>\n",
       "      <td>None</td>\n",
       "      <td>None</td>\n",
       "      <td>Divorced</td>\n",
       "      <td>Widowed</td>\n",
       "    </tr>\n",
       "    <tr>\n",
       "      <th>_c8</th>\n",
       "      <td>199523</td>\n",
       "      <td>None</td>\n",
       "      <td>None</td>\n",
       "      <td>Agriculture</td>\n",
       "      <td>Wholesale trade</td>\n",
       "    </tr>\n",
       "    <tr>\n",
       "      <th>_c9</th>\n",
       "      <td>199523</td>\n",
       "      <td>None</td>\n",
       "      <td>None</td>\n",
       "      <td>Adm support including clerical</td>\n",
       "      <td>Transportation and material moving</td>\n",
       "    </tr>\n",
       "    <tr>\n",
       "      <th>_c10</th>\n",
       "      <td>199523</td>\n",
       "      <td>None</td>\n",
       "      <td>None</td>\n",
       "      <td>Amer Indian Aleut or Eskimo</td>\n",
       "      <td>White</td>\n",
       "    </tr>\n",
       "    <tr>\n",
       "      <th>_c11</th>\n",
       "      <td>199523</td>\n",
       "      <td>None</td>\n",
       "      <td>None</td>\n",
       "      <td>All other</td>\n",
       "      <td>Puerto Rican</td>\n",
       "    </tr>\n",
       "    <tr>\n",
       "      <th>_c12</th>\n",
       "      <td>199523</td>\n",
       "      <td>None</td>\n",
       "      <td>None</td>\n",
       "      <td>Female</td>\n",
       "      <td>Male</td>\n",
       "    </tr>\n",
       "    <tr>\n",
       "      <th>_c13</th>\n",
       "      <td>199523</td>\n",
       "      <td>None</td>\n",
       "      <td>None</td>\n",
       "      <td>No</td>\n",
       "      <td>Yes</td>\n",
       "    </tr>\n",
       "    <tr>\n",
       "      <th>_c14</th>\n",
       "      <td>199523</td>\n",
       "      <td>None</td>\n",
       "      <td>None</td>\n",
       "      <td>Job leaver</td>\n",
       "      <td>Re-entrant</td>\n",
       "    </tr>\n",
       "    <tr>\n",
       "      <th>_c15</th>\n",
       "      <td>199523</td>\n",
       "      <td>None</td>\n",
       "      <td>None</td>\n",
       "      <td>Children or Armed Forces</td>\n",
       "      <td>Unemployed part- time</td>\n",
       "    </tr>\n",
       "    <tr>\n",
       "      <th>_c16</th>\n",
       "      <td>199523</td>\n",
       "      <td>434.7189897906507</td>\n",
       "      <td>4697.531279712537</td>\n",
       "      <td>0.0</td>\n",
       "      <td>99999.0</td>\n",
       "    </tr>\n",
       "    <tr>\n",
       "      <th>_c17</th>\n",
       "      <td>199523</td>\n",
       "      <td>37.313788385298935</td>\n",
       "      <td>271.8964283649652</td>\n",
       "      <td>0.0</td>\n",
       "      <td>4608.0</td>\n",
       "    </tr>\n",
       "    <tr>\n",
       "      <th>_c18</th>\n",
       "      <td>199523</td>\n",
       "      <td>197.52953293605248</td>\n",
       "      <td>1984.1636583823401</td>\n",
       "      <td>0.0</td>\n",
       "      <td>99999.0</td>\n",
       "    </tr>\n",
       "    <tr>\n",
       "      <th>_c19</th>\n",
       "      <td>199523</td>\n",
       "      <td>None</td>\n",
       "      <td>None</td>\n",
       "      <td>Head of household</td>\n",
       "      <td>Single</td>\n",
       "    </tr>\n",
       "    <tr>\n",
       "      <th>_c20</th>\n",
       "      <td>199523</td>\n",
       "      <td>None</td>\n",
       "      <td>None</td>\n",
       "      <td>Abroad</td>\n",
       "      <td>West</td>\n",
       "    </tr>\n",
       "    <tr>\n",
       "      <th>_c21</th>\n",
       "      <td>199523</td>\n",
       "      <td>None</td>\n",
       "      <td>None</td>\n",
       "      <td>?</td>\n",
       "      <td>Wyoming</td>\n",
       "    </tr>\n",
       "    <tr>\n",
       "      <th>_c22</th>\n",
       "      <td>199523</td>\n",
       "      <td>None</td>\n",
       "      <td>None</td>\n",
       "      <td>Child 18+ ever marr Not in a subfamily</td>\n",
       "      <td>Spouse of householder</td>\n",
       "    </tr>\n",
       "    <tr>\n",
       "      <th>_c23</th>\n",
       "      <td>199523</td>\n",
       "      <td>None</td>\n",
       "      <td>None</td>\n",
       "      <td>Child 18 or older</td>\n",
       "      <td>Spouse of householder</td>\n",
       "    </tr>\n",
       "    <tr>\n",
       "      <th>_c25</th>\n",
       "      <td>199523</td>\n",
       "      <td>None</td>\n",
       "      <td>None</td>\n",
       "      <td>?</td>\n",
       "      <td>Not in universe</td>\n",
       "    </tr>\n",
       "    <tr>\n",
       "      <th>_c26</th>\n",
       "      <td>199523</td>\n",
       "      <td>None</td>\n",
       "      <td>None</td>\n",
       "      <td>?</td>\n",
       "      <td>Same county</td>\n",
       "    </tr>\n",
       "    <tr>\n",
       "      <th>_c27</th>\n",
       "      <td>199523</td>\n",
       "      <td>None</td>\n",
       "      <td>None</td>\n",
       "      <td>?</td>\n",
       "      <td>Same county</td>\n",
       "    </tr>\n",
       "    <tr>\n",
       "      <th>_c28</th>\n",
       "      <td>199523</td>\n",
       "      <td>None</td>\n",
       "      <td>None</td>\n",
       "      <td>No</td>\n",
       "      <td>Yes</td>\n",
       "    </tr>\n",
       "    <tr>\n",
       "      <th>_c29</th>\n",
       "      <td>199523</td>\n",
       "      <td>None</td>\n",
       "      <td>None</td>\n",
       "      <td>?</td>\n",
       "      <td>Yes</td>\n",
       "    </tr>\n",
       "    <tr>\n",
       "      <th>_c30</th>\n",
       "      <td>199523</td>\n",
       "      <td>1.9561804904697704</td>\n",
       "      <td>2.3651255054923563</td>\n",
       "      <td>0.0</td>\n",
       "      <td>6.0</td>\n",
       "    </tr>\n",
       "    <tr>\n",
       "      <th>_c31</th>\n",
       "      <td>199523</td>\n",
       "      <td>None</td>\n",
       "      <td>None</td>\n",
       "      <td>Both parents present</td>\n",
       "      <td>Not in universe</td>\n",
       "    </tr>\n",
       "    <tr>\n",
       "      <th>_c32</th>\n",
       "      <td>199523</td>\n",
       "      <td>None</td>\n",
       "      <td>None</td>\n",
       "      <td>?</td>\n",
       "      <td>Yugoslavia</td>\n",
       "    </tr>\n",
       "    <tr>\n",
       "      <th>_c33</th>\n",
       "      <td>199523</td>\n",
       "      <td>None</td>\n",
       "      <td>None</td>\n",
       "      <td>?</td>\n",
       "      <td>Yugoslavia</td>\n",
       "    </tr>\n",
       "    <tr>\n",
       "      <th>_c34</th>\n",
       "      <td>199523</td>\n",
       "      <td>None</td>\n",
       "      <td>None</td>\n",
       "      <td>?</td>\n",
       "      <td>Yugoslavia</td>\n",
       "    </tr>\n",
       "    <tr>\n",
       "      <th>_c35</th>\n",
       "      <td>199523</td>\n",
       "      <td>None</td>\n",
       "      <td>None</td>\n",
       "      <td>Foreign born- Not a citizen of U S</td>\n",
       "      <td>Native- Born in the United States</td>\n",
       "    </tr>\n",
       "    <tr>\n",
       "      <th>_c36</th>\n",
       "      <td>199523</td>\n",
       "      <td>0.17543842063321022</td>\n",
       "      <td>0.553694399300424</td>\n",
       "      <td>0.0</td>\n",
       "      <td>2.0</td>\n",
       "    </tr>\n",
       "    <tr>\n",
       "      <th>_c37</th>\n",
       "      <td>199523</td>\n",
       "      <td>None</td>\n",
       "      <td>None</td>\n",
       "      <td>No</td>\n",
       "      <td>Yes</td>\n",
       "    </tr>\n",
       "    <tr>\n",
       "      <th>_c38</th>\n",
       "      <td>199523</td>\n",
       "      <td>1.5148328764102383</td>\n",
       "      <td>0.8514734448628334</td>\n",
       "      <td>0.0</td>\n",
       "      <td>2.0</td>\n",
       "    </tr>\n",
       "    <tr>\n",
       "      <th>_c39</th>\n",
       "      <td>199523</td>\n",
       "      <td>23.174897129654227</td>\n",
       "      <td>24.41148816750417</td>\n",
       "      <td>0.0</td>\n",
       "      <td>52.0</td>\n",
       "    </tr>\n",
       "    <tr>\n",
       "      <th>_c40</th>\n",
       "      <td>199523</td>\n",
       "      <td>94.49967171704515</td>\n",
       "      <td>0.5000011452231088</td>\n",
       "      <td>94.0</td>\n",
       "      <td>95.0</td>\n",
       "    </tr>\n",
       "    <tr>\n",
       "      <th>_c41</th>\n",
       "      <td>199523</td>\n",
       "      <td>None</td>\n",
       "      <td>None</td>\n",
       "      <td>- 50000.</td>\n",
       "      <td>50000+.</td>\n",
       "    </tr>\n",
       "  </tbody>\n",
       "</table>\n",
       "</div>"
      ],
      "text/plain": [
       "              0                    1                   2  \\\n",
       "summary   count                 mean              stddev   \n",
       "_c0      199523   34.494198663813194  22.310895206650255   \n",
       "_c1      199523                 None                None   \n",
       "_c2      199523   15.352320283877047  18.067128797857993   \n",
       "_c3      199523   11.306556136385279  14.454203916353702   \n",
       "_c4      199523                 None                None   \n",
       "_c5      199523   55.426908175999756   274.8964539028428   \n",
       "_c6      199523                 None                None   \n",
       "_c7      199523                 None                None   \n",
       "_c8      199523                 None                None   \n",
       "_c9      199523                 None                None   \n",
       "_c10     199523                 None                None   \n",
       "_c11     199523                 None                None   \n",
       "_c12     199523                 None                None   \n",
       "_c13     199523                 None                None   \n",
       "_c14     199523                 None                None   \n",
       "_c15     199523                 None                None   \n",
       "_c16     199523    434.7189897906507   4697.531279712537   \n",
       "_c17     199523   37.313788385298935   271.8964283649652   \n",
       "_c18     199523   197.52953293605248  1984.1636583823401   \n",
       "_c19     199523                 None                None   \n",
       "_c20     199523                 None                None   \n",
       "_c21     199523                 None                None   \n",
       "_c22     199523                 None                None   \n",
       "_c23     199523                 None                None   \n",
       "_c25     199523                 None                None   \n",
       "_c26     199523                 None                None   \n",
       "_c27     199523                 None                None   \n",
       "_c28     199523                 None                None   \n",
       "_c29     199523                 None                None   \n",
       "_c30     199523   1.9561804904697704  2.3651255054923563   \n",
       "_c31     199523                 None                None   \n",
       "_c32     199523                 None                None   \n",
       "_c33     199523                 None                None   \n",
       "_c34     199523                 None                None   \n",
       "_c35     199523                 None                None   \n",
       "_c36     199523  0.17543842063321022   0.553694399300424   \n",
       "_c37     199523                 None                None   \n",
       "_c38     199523   1.5148328764102383  0.8514734448628334   \n",
       "_c39     199523   23.174897129654227   24.41148816750417   \n",
       "_c40     199523    94.49967171704515  0.5000011452231088   \n",
       "_c41     199523                 None                None   \n",
       "\n",
       "                                               3  \\\n",
       "summary                                      min   \n",
       "_c0                                            0   \n",
       "_c1                           Federal government   \n",
       "_c2                                          0.0   \n",
       "_c3                                          0.0   \n",
       "_c4                                   10th grade   \n",
       "_c5                                          0.0   \n",
       "_c6                        College or university   \n",
       "_c7                                     Divorced   \n",
       "_c8                                  Agriculture   \n",
       "_c9               Adm support including clerical   \n",
       "_c10                 Amer Indian Aleut or Eskimo   \n",
       "_c11                                   All other   \n",
       "_c12                                      Female   \n",
       "_c13                                          No   \n",
       "_c14                                  Job leaver   \n",
       "_c15                    Children or Armed Forces   \n",
       "_c16                                         0.0   \n",
       "_c17                                         0.0   \n",
       "_c18                                         0.0   \n",
       "_c19                           Head of household   \n",
       "_c20                                      Abroad   \n",
       "_c21                                           ?   \n",
       "_c22      Child 18+ ever marr Not in a subfamily   \n",
       "_c23                           Child 18 or older   \n",
       "_c25                                           ?   \n",
       "_c26                                           ?   \n",
       "_c27                                           ?   \n",
       "_c28                                          No   \n",
       "_c29                                           ?   \n",
       "_c30                                         0.0   \n",
       "_c31                        Both parents present   \n",
       "_c32                                           ?   \n",
       "_c33                                           ?   \n",
       "_c34                                           ?   \n",
       "_c35         Foreign born- Not a citizen of U S    \n",
       "_c36                                         0.0   \n",
       "_c37                                          No   \n",
       "_c38                                         0.0   \n",
       "_c39                                         0.0   \n",
       "_c40                                        94.0   \n",
       "_c41                                    - 50000.   \n",
       "\n",
       "                                           4  \n",
       "summary                                  max  \n",
       "_c0                                       90  \n",
       "_c1                              Without pay  \n",
       "_c2                                     51.0  \n",
       "_c3                                     46.0  \n",
       "_c4               Some college but no degree  \n",
       "_c5                                   9999.0  \n",
       "_c6                          Not in universe  \n",
       "_c7                                  Widowed  \n",
       "_c8                          Wholesale trade  \n",
       "_c9       Transportation and material moving  \n",
       "_c10                                   White  \n",
       "_c11                            Puerto Rican  \n",
       "_c12                                    Male  \n",
       "_c13                                     Yes  \n",
       "_c14                              Re-entrant  \n",
       "_c15                   Unemployed part- time  \n",
       "_c16                                 99999.0  \n",
       "_c17                                  4608.0  \n",
       "_c18                                 99999.0  \n",
       "_c19                                  Single  \n",
       "_c20                                    West  \n",
       "_c21                                 Wyoming  \n",
       "_c22                   Spouse of householder  \n",
       "_c23                   Spouse of householder  \n",
       "_c25                         Not in universe  \n",
       "_c26                             Same county  \n",
       "_c27                             Same county  \n",
       "_c28                                     Yes  \n",
       "_c29                                     Yes  \n",
       "_c30                                     6.0  \n",
       "_c31                         Not in universe  \n",
       "_c32                              Yugoslavia  \n",
       "_c33                              Yugoslavia  \n",
       "_c34                              Yugoslavia  \n",
       "_c35       Native- Born in the United States  \n",
       "_c36                                     2.0  \n",
       "_c37                                     Yes  \n",
       "_c38                                     2.0  \n",
       "_c39                                    52.0  \n",
       "_c40                                    95.0  \n",
       "_c41                                 50000+.  "
      ]
     },
     "execution_count": 10,
     "metadata": {},
     "output_type": "execute_result"
    }
   ],
   "source": [
    "df_train.describe().toPandas().transpose()"
   ]
  },
  {
   "cell_type": "markdown",
   "id": "9ed695cf",
   "metadata": {
    "papermill": {
     "duration": 0.015161,
     "end_time": "2023-02-13T12:11:53.085892",
     "exception": false,
     "start_time": "2023-02-13T12:11:53.070731",
     "status": "completed"
    },
    "tags": []
   },
   "source": [
    "### Check for missing values\n",
    "The dataset contains missing values according to UCI's archive which are encoded as '?'. Lets check which columns contain these values and how many rows of each."
   ]
  },
  {
   "cell_type": "code",
   "execution_count": 11,
   "id": "a0cfe74b",
   "metadata": {
    "execution": {
     "iopub.execute_input": "2023-02-13T12:11:53.119147Z",
     "iopub.status.busy": "2023-02-13T12:11:53.117765Z",
     "iopub.status.idle": "2023-02-13T12:12:11.002922Z",
     "shell.execute_reply": "2023-02-13T12:12:11.001608Z"
    },
    "papermill": {
     "duration": 17.90658,
     "end_time": "2023-02-13T12:12:11.007983",
     "exception": false,
     "start_time": "2023-02-13T12:11:53.101403",
     "status": "completed"
    },
    "tags": []
   },
   "outputs": [
    {
     "name": "stderr",
     "output_type": "stream",
     "text": [
      "                                                                                \r"
     ]
    },
    {
     "name": "stdout",
     "output_type": "stream",
     "text": [
      "+---+---+---+---+---+---+---+---+---+---+----+----+----+----+----+----+----+----+----+----+----+----+----+----+-----+-----+-----+----+-----+----+----+----+----+----+----+----+----+----+----+----+----+\n",
      "|_c0|_c1|_c2|_c3|_c4|_c5|_c6|_c7|_c8|_c9|_c10|_c11|_c12|_c13|_c14|_c15|_c16|_c17|_c18|_c19|_c20|_c21|_c22|_c23| _c25| _c26| _c27|_c28| _c29|_c30|_c31|_c32|_c33|_c34|_c35|_c36|_c37|_c38|_c39|_c40|_c41|\n",
      "+---+---+---+---+---+---+---+---+---+---+----+----+----+----+----+----+----+----+----+----+----+----+----+----+-----+-----+-----+----+-----+----+----+----+----+----+----+----+----+----+----+----+----+\n",
      "|  0|  0|  0|  0|  0|  0|  0|  0|  0|  0|   0|   0|   0|   0|   0|   0|   0|   0|   0|   0|   0| 708|   0|   0|99696|99696|99696|   0|99696|   0|   0|6713|6119|3393|   0|   0|   0|   0|   0|   0|   0|\n",
      "+---+---+---+---+---+---+---+---+---+---+----+----+----+----+----+----+----+----+----+----+----+----+----+----+-----+-----+-----+----+-----+----+----+----+----+----+----+----+----+----+----+----+----+\n",
      "\n"
     ]
    },
    {
     "name": "stderr",
     "output_type": "stream",
     "text": [
      "[Stage 18:===========================================>              (3 + 1) / 4]\r"
     ]
    },
    {
     "name": "stdout",
     "output_type": "stream",
     "text": [
      "+---+---+---+---+---+---+---+---+---+---+----+----+----+----+----+----+----+----+----+----+----+----+----+----+-----+-----+-----+----+-----+----+----+----+----+----+----+----+----+----+----+----+----+\n",
      "|_c0|_c1|_c2|_c3|_c4|_c5|_c6|_c7|_c8|_c9|_c10|_c11|_c12|_c13|_c14|_c15|_c16|_c17|_c18|_c19|_c20|_c21|_c22|_c23| _c25| _c26| _c27|_c28| _c29|_c30|_c31|_c32|_c33|_c34|_c35|_c36|_c37|_c38|_c39|_c40|_c41|\n",
      "+---+---+---+---+---+---+---+---+---+---+----+----+----+----+----+----+----+----+----+----+----+----+----+----+-----+-----+-----+----+-----+----+----+----+----+----+----+----+----+----+----+----+----+\n",
      "|  0|  0|  0|  0|  0|  0|  0|  0|  0|  0|   0|   0|   0|   0|   0|   0|   0|   0|   0|   0|   0| 330|   0|   0|49946|49946|49946|   0|49946|   0|   0|3429|3072|1764|   0|   0|   0|   0|   0|   0|   0|\n",
      "+---+---+---+---+---+---+---+---+---+---+----+----+----+----+----+----+----+----+----+----+----+----+----+----+-----+-----+-----+----+-----+----+----+----+----+----+----+----+----+----+----+----+----+\n",
      "\n"
     ]
    },
    {
     "name": "stderr",
     "output_type": "stream",
     "text": [
      "                                                                                \r"
     ]
    }
   ],
   "source": [
    "from pyspark.sql.functions import col,isnan, when, count\n",
    "\n",
    "df_train.select([\n",
    "    count(\n",
    "        when(\n",
    "            isnan(c) \n",
    "            | col(c).isNull() \n",
    "            | col(c).contains(\"?\"), \n",
    "            c)\n",
    "    ).alias(c) for c in df_train.columns\n",
    "]).show()\n",
    "\n",
    "df_test.select([\n",
    "    count(\n",
    "        when(\n",
    "            isnan(c) \n",
    "            | col(c).isNull() \n",
    "            | col(c).contains(\"?\"), \n",
    "            c)\n",
    "    ).alias(c) for c in df_test.columns\n",
    "]).show()"
   ]
  },
  {
   "cell_type": "markdown",
   "id": "e13adaf6",
   "metadata": {
    "papermill": {
     "duration": 0.021769,
     "end_time": "2023-02-13T12:12:11.054062",
     "exception": false,
     "start_time": "2023-02-13T12:12:11.032293",
     "status": "completed"
    },
    "tags": []
   },
   "source": [
    "We see that both dataframes contain missing values in column _c25, _c26, _c27, _c29, _c32, _c33 and _c34. We'll replace these values with `null` for both dataframes."
   ]
  },
  {
   "cell_type": "code",
   "execution_count": 12,
   "id": "87915135",
   "metadata": {
    "execution": {
     "iopub.execute_input": "2023-02-13T12:12:11.090230Z",
     "iopub.status.busy": "2023-02-13T12:12:11.088829Z",
     "iopub.status.idle": "2023-02-13T12:12:11.939254Z",
     "shell.execute_reply": "2023-02-13T12:12:11.937762Z"
    },
    "papermill": {
     "duration": 0.87223,
     "end_time": "2023-02-13T12:12:11.943082",
     "exception": false,
     "start_time": "2023-02-13T12:12:11.070852",
     "status": "completed"
    },
    "tags": []
   },
   "outputs": [
    {
     "name": "stdout",
     "output_type": "stream",
     "text": [
      "+---+--------------------+---+----+--------------------+---+----------------+--------------+--------------------+--------------------+--------------------+----------+-------+----------------+----------------+--------------------+----+----+----+------------------+----------------+----------------+--------------------+--------------------+-----------+------------+------------+--------------------+----------------+----+--------------------+--------------+--------------+--------------+--------------------+----+----------------+----+----+----+---------+\n",
      "|_c0|                 _c1|_c2| _c3|                 _c4|_c5|             _c6|           _c7|                 _c8|                 _c9|                _c10|      _c11|   _c12|            _c13|            _c14|                _c15|_c16|_c17|_c18|              _c19|            _c20|            _c21|                _c22|                _c23|       _c25|        _c26|        _c27|                _c28|            _c29|_c30|                _c31|          _c32|          _c33|          _c34|                _c35|_c36|            _c37|_c38|_c39|_c40|     _c41|\n",
      "+---+--------------------+---+----+--------------------+---+----------------+--------------+--------------------+--------------------+--------------------+----------+-------+----------------+----------------+--------------------+----+----+----+------------------+----------------+----------------+--------------------+--------------------+-----------+------------+------------+--------------------+----------------+----+--------------------+--------------+--------------+--------------+--------------------+----+----------------+----+----+----+---------+\n",
      "| 73|     Not in universe|0.0| 0.0| High school grad...|0.0| Not in universe|       Widowed| Not in universe ...|     Not in universe|               White| All other| Female| Not in universe| Not in universe|  Not in labor force| 0.0| 0.0| 0.0|          Nonfiler| Not in universe| Not in universe| Other Rel 18+ ev...| Other relative o...|       null|        null|        null| Not in universe ...|            null| 0.0|     Not in universe| United-States| United-States| United-States| Native- Born in ...| 0.0| Not in universe| 2.0| 0.0|95.0| - 50000.|\n",
      "| 58| Self-employed-no...|4.0|34.0| Some college but...|0.0| Not in universe|      Divorced|        Construction| Precision produc...|               White| All other|   Male| Not in universe| Not in universe| Children or Arme...| 0.0| 0.0| 0.0| Head of household|           South|        Arkansas|         Householder|         Householder| MSA to MSA| Same county| Same county|                  No|             Yes| 1.0|     Not in universe| United-States| United-States| United-States| Native- Born in ...| 0.0| Not in universe| 2.0|52.0|94.0| - 50000.|\n",
      "| 18|     Not in universe|0.0| 0.0|          10th grade|0.0|     High school| Never married| Not in universe ...|     Not in universe| Asian or Pacific...| All other| Female| Not in universe| Not in universe|  Not in labor force| 0.0| 0.0| 0.0|          Nonfiler| Not in universe| Not in universe| Child 18+ never ...|   Child 18 or older|       null|        null|        null| Not in universe ...|            null| 0.0|     Not in universe|       Vietnam|       Vietnam|       Vietnam| Foreign born- No...| 0.0| Not in universe| 2.0| 0.0|95.0| - 50000.|\n",
      "|  9|     Not in universe|0.0| 0.0|            Children|0.0| Not in universe| Never married| Not in universe ...|     Not in universe|               White| All other| Female| Not in universe| Not in universe| Children or Arme...| 0.0| 0.0| 0.0|          Nonfiler| Not in universe| Not in universe| Child <18 never ...| Child under 18 n...|   Nonmover|    Nonmover|    Nonmover|                 Yes| Not in universe| 0.0| Both parents pre...| United-States| United-States| United-States| Native- Born in ...| 0.0| Not in universe| 0.0| 0.0|94.0| - 50000.|\n",
      "| 10|     Not in universe|0.0| 0.0|            Children|0.0| Not in universe| Never married| Not in universe ...|     Not in universe|               White| All other| Female| Not in universe| Not in universe| Children or Arme...| 0.0| 0.0| 0.0|          Nonfiler| Not in universe| Not in universe| Child <18 never ...| Child under 18 n...|   Nonmover|    Nonmover|    Nonmover|                 Yes| Not in universe| 0.0| Both parents pre...| United-States| United-States| United-States| Native- Born in ...| 0.0| Not in universe| 0.0| 0.0|94.0| - 50000.|\n",
      "+---+--------------------+---+----+--------------------+---+----------------+--------------+--------------------+--------------------+--------------------+----------+-------+----------------+----------------+--------------------+----+----+----+------------------+----------------+----------------+--------------------+--------------------+-----------+------------+------------+--------------------+----------------+----+--------------------+--------------+--------------+--------------+--------------------+----+----------------+----+----+----+---------+\n",
      "only showing top 5 rows\n",
      "\n"
     ]
    }
   ],
   "source": [
    "df_train = df_train.select([when(col(c).contains(\"?\"), None).otherwise(col(c)).alias(c) for c in df_train.columns])\n",
    "df_test = df_test.select([when(col(c).contains(\"?\"), None).otherwise(col(c)).alias(c) for c in df_test.columns])\n",
    "\n",
    "df_train.show(5)"
   ]
  },
  {
   "cell_type": "markdown",
   "id": "24746deb",
   "metadata": {
    "papermill": {
     "duration": 0.02395,
     "end_time": "2023-02-13T12:12:11.991691",
     "exception": false,
     "start_time": "2023-02-13T12:12:11.967741",
     "status": "completed"
    },
    "tags": []
   },
   "source": [
    "### Class distribution\n",
    "Lets see the distribution of classes:"
   ]
  },
  {
   "cell_type": "code",
   "execution_count": 13,
   "id": "359ab7ef",
   "metadata": {
    "execution": {
     "iopub.execute_input": "2023-02-13T12:12:12.045469Z",
     "iopub.status.busy": "2023-02-13T12:12:12.044014Z",
     "iopub.status.idle": "2023-02-13T12:12:13.179091Z",
     "shell.execute_reply": "2023-02-13T12:12:13.177894Z"
    },
    "papermill": {
     "duration": 1.16728,
     "end_time": "2023-02-13T12:12:13.184733",
     "exception": false,
     "start_time": "2023-02-13T12:12:12.017453",
     "status": "completed"
    },
    "tags": []
   },
   "outputs": [
    {
     "name": "stderr",
     "output_type": "stream",
     "text": [
      "[Stage 22:>                                                         (0 + 4) / 4]\r"
     ]
    },
    {
     "name": "stdout",
     "output_type": "stream",
     "text": [
      "+---------+------+\n",
      "|     _c41| count|\n",
      "+---------+------+\n",
      "| - 50000.|187141|\n",
      "|  50000+.| 12382|\n",
      "+---------+------+\n",
      "\n"
     ]
    },
    {
     "name": "stderr",
     "output_type": "stream",
     "text": [
      "                                                                                \r"
     ]
    }
   ],
   "source": [
    "df_train.groupBy(\"_c41\").count().show()"
   ]
  },
  {
   "cell_type": "markdown",
   "id": "1268e0b0",
   "metadata": {
    "papermill": {
     "duration": 0.025794,
     "end_time": "2023-02-13T12:12:13.237221",
     "exception": false,
     "start_time": "2023-02-13T12:12:13.211427",
     "status": "completed"
    },
    "tags": []
   },
   "source": [
    "We can see that the class distribution is imbalanced, with the majority class being <50K."
   ]
  },
  {
   "cell_type": "markdown",
   "id": "2ddee910",
   "metadata": {
    "papermill": {
     "duration": 0.024711,
     "end_time": "2023-02-13T12:12:13.287633",
     "exception": false,
     "start_time": "2023-02-13T12:12:13.262922",
     "status": "completed"
    },
    "tags": []
   },
   "source": [
    "## Data preparation and feature engineering"
   ]
  },
  {
   "cell_type": "markdown",
   "id": "82654bdb",
   "metadata": {
    "papermill": {
     "duration": 0.023359,
     "end_time": "2023-02-13T12:12:13.334865",
     "exception": false,
     "start_time": "2023-02-13T12:12:13.311506",
     "status": "completed"
    },
    "tags": []
   },
   "source": [
    "#### Class balancing\n",
    "Class imbalance with the majority of records in the <50K class was observed. To improve accuracy and generalizability, a portion of the underrepresented class will be sampled to balance the number of records between classes."
   ]
  },
  {
   "cell_type": "code",
   "execution_count": 14,
   "id": "10b48038",
   "metadata": {
    "execution": {
     "iopub.execute_input": "2023-02-13T12:12:13.386961Z",
     "iopub.status.busy": "2023-02-13T12:12:13.386412Z",
     "iopub.status.idle": "2023-02-13T12:12:14.163141Z",
     "shell.execute_reply": "2023-02-13T12:12:14.161986Z"
    },
    "papermill": {
     "duration": 0.805798,
     "end_time": "2023-02-13T12:12:14.166397",
     "exception": false,
     "start_time": "2023-02-13T12:12:13.360599",
     "status": "completed"
    },
    "tags": []
   },
   "outputs": [
    {
     "name": "stdout",
     "output_type": "stream",
     "text": [
      "+---------+------+\n",
      "|     _c41| count|\n",
      "+---------+------+\n",
      "| - 50000.|187141|\n",
      "|  50000+.| 12382|\n",
      "+---------+------+\n",
      "\n"
     ]
    }
   ],
   "source": [
    "df_train.groupBy(\"_c41\").count().show()"
   ]
  },
  {
   "cell_type": "markdown",
   "id": "7438111d",
   "metadata": {
    "papermill": {
     "duration": 0.025134,
     "end_time": "2023-02-13T12:12:14.215845",
     "exception": false,
     "start_time": "2023-02-13T12:12:14.190711",
     "status": "completed"
    },
    "tags": []
   },
   "source": [
    "Divide the training set into two dataframes based on the class column (_c41) value"
   ]
  },
  {
   "cell_type": "code",
   "execution_count": 15,
   "id": "72ff7829",
   "metadata": {
    "execution": {
     "iopub.execute_input": "2023-02-13T12:12:14.260287Z",
     "iopub.status.busy": "2023-02-13T12:12:14.259788Z",
     "iopub.status.idle": "2023-02-13T12:12:15.784348Z",
     "shell.execute_reply": "2023-02-13T12:12:15.783207Z"
    },
    "papermill": {
     "duration": 1.547055,
     "end_time": "2023-02-13T12:12:15.787971",
     "exception": false,
     "start_time": "2023-02-13T12:12:14.240916",
     "status": "completed"
    },
    "tags": []
   },
   "outputs": [
    {
     "name": "stderr",
     "output_type": "stream",
     "text": [
      "                                                                                \r"
     ]
    },
    {
     "data": {
      "text/plain": [
       "(187141, 12382)"
      ]
     },
     "execution_count": 15,
     "metadata": {},
     "output_type": "execute_result"
    }
   ],
   "source": [
    "below_50k = df_train.filter(\"_c41 == ' - 50000.'\")\n",
    "above_50k = df_train.filter(\"_c41 == ' 50000+.'\")\n",
    "\n",
    "below_50k.count(), above_50k.count()"
   ]
  },
  {
   "cell_type": "code",
   "execution_count": 16,
   "id": "4552239f",
   "metadata": {
    "execution": {
     "iopub.execute_input": "2023-02-13T12:12:15.840174Z",
     "iopub.status.busy": "2023-02-13T12:12:15.839666Z",
     "iopub.status.idle": "2023-02-13T12:12:17.778441Z",
     "shell.execute_reply": "2023-02-13T12:12:17.777022Z"
    },
    "papermill": {
     "duration": 1.969705,
     "end_time": "2023-02-13T12:12:17.781793",
     "exception": false,
     "start_time": "2023-02-13T12:12:15.812088",
     "status": "completed"
    },
    "tags": []
   },
   "outputs": [
    {
     "name": "stderr",
     "output_type": "stream",
     "text": [
      "                                                                                \r"
     ]
    },
    {
     "data": {
      "text/plain": [
       "12255"
      ]
     },
     "execution_count": 16,
     "metadata": {},
     "output_type": "execute_result"
    }
   ],
   "source": [
    "# Count the number of records in the above_50K dataframe\n",
    "record_count = above_50k.count()\n",
    "\n",
    "# Sample the same amount of records from the below_50K dataframe\n",
    "sampled_below_50k = below_50k.sample(False, 1.0 * record_count / below_50k.count())\n",
    "\n",
    "sampled_below_50k.count()"
   ]
  },
  {
   "cell_type": "code",
   "execution_count": 17,
   "id": "938d5aca",
   "metadata": {
    "execution": {
     "iopub.execute_input": "2023-02-13T12:12:17.824932Z",
     "iopub.status.busy": "2023-02-13T12:12:17.823445Z",
     "iopub.status.idle": "2023-02-13T12:12:17.889480Z",
     "shell.execute_reply": "2023-02-13T12:12:17.888217Z"
    },
    "papermill": {
     "duration": 0.08864,
     "end_time": "2023-02-13T12:12:17.893095",
     "exception": false,
     "start_time": "2023-02-13T12:12:17.804455",
     "status": "completed"
    },
    "tags": []
   },
   "outputs": [],
   "source": [
    "# Union the above_50K and sampled_below_50K dataframes to create a balanced dataset\n",
    "balanced_dataset = above_50k.union(sampled_below_50k)"
   ]
  },
  {
   "cell_type": "code",
   "execution_count": 18,
   "id": "f59aff28",
   "metadata": {
    "execution": {
     "iopub.execute_input": "2023-02-13T12:12:17.929003Z",
     "iopub.status.busy": "2023-02-13T12:12:17.928598Z",
     "iopub.status.idle": "2023-02-13T12:12:19.615811Z",
     "shell.execute_reply": "2023-02-13T12:12:19.614459Z"
    },
    "papermill": {
     "duration": 1.708843,
     "end_time": "2023-02-13T12:12:19.619619",
     "exception": false,
     "start_time": "2023-02-13T12:12:17.910776",
     "status": "completed"
    },
    "tags": []
   },
   "outputs": [
    {
     "name": "stderr",
     "output_type": "stream",
     "text": [
      "[Stage 43:=============================>                            (4 + 4) / 8]\r"
     ]
    },
    {
     "name": "stdout",
     "output_type": "stream",
     "text": [
      "+---------+-----+\n",
      "|     _c41|count|\n",
      "+---------+-----+\n",
      "|  50000+.|12382|\n",
      "| - 50000.|12255|\n",
      "+---------+-----+\n",
      "\n"
     ]
    },
    {
     "name": "stderr",
     "output_type": "stream",
     "text": [
      "                                                                                \r"
     ]
    }
   ],
   "source": [
    "balanced_dataset.groupBy(\"_c41\").count().show()"
   ]
  },
  {
   "cell_type": "code",
   "execution_count": 19,
   "id": "a7de9af9",
   "metadata": {
    "execution": {
     "iopub.execute_input": "2023-02-13T12:12:19.674459Z",
     "iopub.status.busy": "2023-02-13T12:12:19.673931Z",
     "iopub.status.idle": "2023-02-13T12:12:19.681159Z",
     "shell.execute_reply": "2023-02-13T12:12:19.680033Z"
    },
    "papermill": {
     "duration": 0.042919,
     "end_time": "2023-02-13T12:12:19.688852",
     "exception": false,
     "start_time": "2023-02-13T12:12:19.645933",
     "status": "completed"
    },
    "tags": []
   },
   "outputs": [
    {
     "name": "stdout",
     "output_type": "stream",
     "text": [
      "Using balanced dataset\n"
     ]
    }
   ],
   "source": [
    "balance = True\n",
    "\n",
    "if balance: \n",
    "    print(\"Using balanced dataset\")\n",
    "    df_train = balanced_dataset"
   ]
  },
  {
   "cell_type": "markdown",
   "id": "34c573ce",
   "metadata": {
    "papermill": {
     "duration": 0.032377,
     "end_time": "2023-02-13T12:12:19.748063",
     "exception": false,
     "start_time": "2023-02-13T12:12:19.715686",
     "status": "completed"
    },
    "tags": []
   },
   "source": [
    "### Encode categorical columns\n",
    "Categorical columns are converted and added as new columns to the dataframe with the prefix 's'."
   ]
  },
  {
   "cell_type": "code",
   "execution_count": 20,
   "id": "7bf5dbb1",
   "metadata": {
    "execution": {
     "iopub.execute_input": "2023-02-13T12:12:19.799183Z",
     "iopub.status.busy": "2023-02-13T12:12:19.798700Z",
     "iopub.status.idle": "2023-02-13T12:12:20.224311Z",
     "shell.execute_reply": "2023-02-13T12:12:20.223056Z"
    },
    "papermill": {
     "duration": 0.454713,
     "end_time": "2023-02-13T12:12:20.227095",
     "exception": false,
     "start_time": "2023-02-13T12:12:19.772382",
     "status": "completed"
    },
    "tags": []
   },
   "outputs": [],
   "source": [
    "from pyspark.ml.feature import StringIndexer, IndexToString, VectorAssembler, ChiSqSelector\n",
    "from pyspark.ml import Pipeline\n",
    "\n",
    "\n",
    "dtypes = df_train.dtypes\n",
    "dtypes = dtypes[0:-1]\n",
    "string_cols = [c for (c,t) in dtypes if t == \"string\"]\n",
    "numerical_cols = [c for (c,t) in dtypes if t != \"string\"]\n",
    "\n",
    "indexers = [StringIndexer(inputCol=col, outputCol=\"s\"+col).setHandleInvalid(\"skip\") for col in string_cols]"
   ]
  },
  {
   "cell_type": "code",
   "execution_count": 21,
   "id": "721be76f",
   "metadata": {
    "execution": {
     "iopub.execute_input": "2023-02-13T12:12:20.264942Z",
     "iopub.status.busy": "2023-02-13T12:12:20.262861Z",
     "iopub.status.idle": "2023-02-13T12:12:20.274343Z",
     "shell.execute_reply": "2023-02-13T12:12:20.273070Z"
    },
    "papermill": {
     "duration": 0.032751,
     "end_time": "2023-02-13T12:12:20.276776",
     "exception": false,
     "start_time": "2023-02-13T12:12:20.244025",
     "status": "completed"
    },
    "tags": []
   },
   "outputs": [
    {
     "data": {
      "text/plain": [
       "(['_c0',\n",
       "  '_c1',\n",
       "  '_c2',\n",
       "  '_c3',\n",
       "  '_c4',\n",
       "  '_c5',\n",
       "  '_c6',\n",
       "  '_c7',\n",
       "  '_c8',\n",
       "  '_c9',\n",
       "  '_c10',\n",
       "  '_c11',\n",
       "  '_c12',\n",
       "  '_c13',\n",
       "  '_c14',\n",
       "  '_c15',\n",
       "  '_c16',\n",
       "  '_c17',\n",
       "  '_c18',\n",
       "  '_c19',\n",
       "  '_c20',\n",
       "  '_c21',\n",
       "  '_c22',\n",
       "  '_c23',\n",
       "  '_c25',\n",
       "  '_c26',\n",
       "  '_c27',\n",
       "  '_c28',\n",
       "  '_c29',\n",
       "  '_c30',\n",
       "  '_c31',\n",
       "  '_c32',\n",
       "  '_c33',\n",
       "  '_c34',\n",
       "  '_c35',\n",
       "  '_c36',\n",
       "  '_c37',\n",
       "  '_c38',\n",
       "  '_c39',\n",
       "  '_c40'],\n",
       " ['s_c1',\n",
       "  's_c4',\n",
       "  's_c6',\n",
       "  's_c7',\n",
       "  's_c8',\n",
       "  's_c9',\n",
       "  's_c10',\n",
       "  's_c11',\n",
       "  's_c12',\n",
       "  's_c13',\n",
       "  's_c14',\n",
       "  's_c15',\n",
       "  's_c19',\n",
       "  's_c20',\n",
       "  's_c21',\n",
       "  's_c22',\n",
       "  's_c23',\n",
       "  's_c25',\n",
       "  's_c26',\n",
       "  's_c27',\n",
       "  's_c28',\n",
       "  's_c29',\n",
       "  's_c31',\n",
       "  's_c32',\n",
       "  's_c33',\n",
       "  's_c34',\n",
       "  's_c35',\n",
       "  's_c37'])"
      ]
     },
     "execution_count": 21,
     "metadata": {},
     "output_type": "execute_result"
    }
   ],
   "source": [
    "cols = df_train.columns\n",
    "feature_cols = cols[:-1]  # Use all features except the label\n",
    "converted_cols = [\"s\"+col for col in string_cols]\n",
    "feature_cols, converted_cols"
   ]
  },
  {
   "cell_type": "markdown",
   "id": "6df18f5b",
   "metadata": {
    "papermill": {
     "duration": 0.017612,
     "end_time": "2023-02-13T12:12:20.315264",
     "exception": false,
     "start_time": "2023-02-13T12:12:20.297652",
     "status": "completed"
    },
    "tags": []
   },
   "source": [
    "### Prepare the data for spark ML"
   ]
  },
  {
   "cell_type": "code",
   "execution_count": 22,
   "id": "62ac8fd5",
   "metadata": {
    "execution": {
     "iopub.execute_input": "2023-02-13T12:12:20.351755Z",
     "iopub.status.busy": "2023-02-13T12:12:20.350962Z",
     "iopub.status.idle": "2023-02-13T12:12:20.364810Z",
     "shell.execute_reply": "2023-02-13T12:12:20.363563Z"
    },
    "papermill": {
     "duration": 0.035817,
     "end_time": "2023-02-13T12:12:20.367931",
     "exception": false,
     "start_time": "2023-02-13T12:12:20.332114",
     "status": "completed"
    },
    "tags": []
   },
   "outputs": [],
   "source": [
    "assembler = VectorAssembler(\n",
    "    inputCols = converted_cols + numerical_cols,  # Use both categorical and numerical features\n",
    "    outputCol=\"features\")"
   ]
  },
  {
   "cell_type": "markdown",
   "id": "80df1f7e",
   "metadata": {
    "papermill": {
     "duration": 0.016536,
     "end_time": "2023-02-13T12:12:20.401859",
     "exception": false,
     "start_time": "2023-02-13T12:12:20.385323",
     "status": "completed"
    },
    "tags": []
   },
   "source": [
    "### Encode the label"
   ]
  },
  {
   "cell_type": "code",
   "execution_count": 23,
   "id": "18c3b552",
   "metadata": {
    "execution": {
     "iopub.execute_input": "2023-02-13T12:12:20.437325Z",
     "iopub.status.busy": "2023-02-13T12:12:20.436885Z",
     "iopub.status.idle": "2023-02-13T12:12:20.445699Z",
     "shell.execute_reply": "2023-02-13T12:12:20.444740Z"
    },
    "papermill": {
     "duration": 0.029777,
     "end_time": "2023-02-13T12:12:20.448247",
     "exception": false,
     "start_time": "2023-02-13T12:12:20.418470",
     "status": "completed"
    },
    "tags": []
   },
   "outputs": [],
   "source": [
    "labelIndexer = StringIndexer(inputCol=\"_c41\", outputCol=\"label\")  # Income column"
   ]
  },
  {
   "cell_type": "markdown",
   "id": "5362de5d",
   "metadata": {
    "papermill": {
     "duration": 0.01632,
     "end_time": "2023-02-13T12:12:20.481389",
     "exception": false,
     "start_time": "2023-02-13T12:12:20.465069",
     "status": "completed"
    },
    "tags": []
   },
   "source": [
    "### Feature selection"
   ]
  },
  {
   "cell_type": "code",
   "execution_count": 24,
   "id": "0285fca3",
   "metadata": {
    "execution": {
     "iopub.execute_input": "2023-02-13T12:12:20.516804Z",
     "iopub.status.busy": "2023-02-13T12:12:20.516349Z",
     "iopub.status.idle": "2023-02-13T12:12:20.533864Z",
     "shell.execute_reply": "2023-02-13T12:12:20.532890Z"
    },
    "papermill": {
     "duration": 0.038248,
     "end_time": "2023-02-13T12:12:20.536659",
     "exception": false,
     "start_time": "2023-02-13T12:12:20.498411",
     "status": "completed"
    },
    "tags": []
   },
   "outputs": [],
   "source": [
    "# Feature selection did not improve accuracy and is excluded from the tests\n",
    "selector = ChiSqSelector(numTopFeatures=5, featuresCol=\"features\",\n",
    "                         outputCol=\"selectedFeatures\", labelCol=\"label\")"
   ]
  },
  {
   "cell_type": "markdown",
   "id": "afb36797",
   "metadata": {
    "papermill": {
     "duration": 0.016596,
     "end_time": "2023-02-13T12:12:20.570238",
     "exception": false,
     "start_time": "2023-02-13T12:12:20.553642",
     "status": "completed"
    },
    "tags": []
   },
   "source": [
    "## Classification\n",
    "In this section we train and evaluate multiple machine learning algorithms for comparison."
   ]
  },
  {
   "cell_type": "code",
   "execution_count": 25,
   "id": "c4b089ef",
   "metadata": {
    "execution": {
     "iopub.execute_input": "2023-02-13T12:12:20.605357Z",
     "iopub.status.busy": "2023-02-13T12:12:20.604959Z",
     "iopub.status.idle": "2023-02-13T12:12:20.610723Z",
     "shell.execute_reply": "2023-02-13T12:12:20.609505Z"
    },
    "papermill": {
     "duration": 0.026385,
     "end_time": "2023-02-13T12:12:20.613138",
     "exception": false,
     "start_time": "2023-02-13T12:12:20.586753",
     "status": "completed"
    },
    "tags": []
   },
   "outputs": [],
   "source": [
    "def fit_and_predict(model):\n",
    "    pipeline = Pipeline(stages=indexers + [assembler, labelIndexer, model])\n",
    "    model = pipeline.fit(df_train)\n",
    "    predictions = model.transform(df_test)\n",
    "    return predictions"
   ]
  },
  {
   "cell_type": "markdown",
   "id": "c3a610df",
   "metadata": {
    "papermill": {
     "duration": 0.017005,
     "end_time": "2023-02-13T12:12:20.647814",
     "exception": false,
     "start_time": "2023-02-13T12:12:20.630809",
     "status": "completed"
    },
    "tags": []
   },
   "source": [
    "### Preview predictions with random forest"
   ]
  },
  {
   "cell_type": "code",
   "execution_count": 26,
   "id": "67976deb",
   "metadata": {
    "execution": {
     "iopub.execute_input": "2023-02-13T12:12:20.682702Z",
     "iopub.status.busy": "2023-02-13T12:12:20.682264Z",
     "iopub.status.idle": "2023-02-13T12:13:53.009548Z",
     "shell.execute_reply": "2023-02-13T12:13:53.008593Z"
    },
    "papermill": {
     "duration": 92.348032,
     "end_time": "2023-02-13T12:13:53.012500",
     "exception": false,
     "start_time": "2023-02-13T12:12:20.664468",
     "status": "completed"
    },
    "tags": []
   },
   "outputs": [
    {
     "name": "stderr",
     "output_type": "stream",
     "text": [
      "                                                                                \r"
     ]
    }
   ],
   "source": [
    "from pyspark.ml.classification import RandomForestClassifier\n",
    "\n",
    "rf = RandomForestClassifier(labelCol='label', \n",
    "                            featuresCol='features',\n",
    "                            maxDepth=5,\n",
    "                            numTrees=10, \n",
    "                            maxBins=64)\n",
    "\n",
    "predictions = fit_and_predict(model=rf)"
   ]
  },
  {
   "cell_type": "code",
   "execution_count": 27,
   "id": "01efbe55",
   "metadata": {
    "execution": {
     "iopub.execute_input": "2023-02-13T12:13:53.076110Z",
     "iopub.status.busy": "2023-02-13T12:13:53.075404Z",
     "iopub.status.idle": "2023-02-13T12:13:54.475354Z",
     "shell.execute_reply": "2023-02-13T12:13:54.473791Z"
    },
    "papermill": {
     "duration": 1.430375,
     "end_time": "2023-02-13T12:13:54.479344",
     "exception": false,
     "start_time": "2023-02-13T12:13:53.048969",
     "status": "completed"
    },
    "tags": []
   },
   "outputs": [
    {
     "name": "stdout",
     "output_type": "stream",
     "text": [
      "+----------+-----+--------------------+--------------------+--------------------+\n",
      "|prediction|label|       rawPrediction|         probability|            features|\n",
      "+----------+-----+--------------------+--------------------+--------------------+\n",
      "|       1.0|  0.0|[2.80836683235338...|[0.28083668323533...|(40,[1,3,4,5,8,12...|\n",
      "|       0.0|  0.0|[9.87407855759461...|[0.98740785575946...|(40,[0,1,3,12,15,...|\n",
      "|       0.0|  0.0|[9.87407855759461...|[0.98740785575946...|(40,[0,1,3,7,8,12...|\n",
      "|       1.0|  0.0|[1.32231686081115...|[0.13223168608111...|(40,[1,4,5,6,28,2...|\n",
      "|       0.0|  0.0|[9.87407855759461...|[0.98740785575946...|(40,[0,1,3,8,12,1...|\n",
      "+----------+-----+--------------------+--------------------+--------------------+\n",
      "only showing top 5 rows\n",
      "\n"
     ]
    }
   ],
   "source": [
    "predictions.select(\"prediction\", \"label\", \"rawPrediction\", \"probability\", \"features\").show(5)"
   ]
  },
  {
   "cell_type": "code",
   "execution_count": 28,
   "id": "2c05bf67",
   "metadata": {
    "execution": {
     "iopub.execute_input": "2023-02-13T12:13:54.537380Z",
     "iopub.status.busy": "2023-02-13T12:13:54.536969Z",
     "iopub.status.idle": "2023-02-13T12:13:54.549694Z",
     "shell.execute_reply": "2023-02-13T12:13:54.548679Z"
    },
    "papermill": {
     "duration": 0.040665,
     "end_time": "2023-02-13T12:13:54.552001",
     "exception": false,
     "start_time": "2023-02-13T12:13:54.511336",
     "status": "completed"
    },
    "tags": []
   },
   "outputs": [],
   "source": [
    "from pyspark.ml.evaluation import BinaryClassificationEvaluator, MulticlassClassificationEvaluator\n",
    "from pyspark.mllib.evaluation import BinaryClassificationMetrics\n",
    "\n",
    "\n",
    "metrics = [\n",
    "    \"accuracy\",\n",
    "    \"weightedPrecision\",\n",
    "    \"weightedRecall\",\n",
    "    \"f1\",\n",
    "    \"areaUnderROC\",\n",
    "]\n",
    "\n",
    "\n",
    "def evaluate(predictions):\n",
    "    results = {}\n",
    "    evaluator = BinaryClassificationEvaluator(labelCol=\"label\", rawPredictionCol=\"rawPrediction\", metricName=\"areaUnderROC\")\n",
    "    results[metrics[-1]] = evaluator.evaluate(predictions)\n",
    "    \n",
    "    evaluator = MulticlassClassificationEvaluator(labelCol=\"label\")\n",
    "    \n",
    "    for metric in metrics[:-1]: \n",
    "        results[metric] = evaluator.evaluate(predictions, {evaluator.metricName: metric })\n",
    "    \n",
    "    predictions.crosstab(\"prediction\", \"label\").select('prediction_label', '`1.0`', '`0.0`', ).show(30, False)\n",
    "    print(results)\n",
    "    \n",
    "    return results"
   ]
  },
  {
   "cell_type": "code",
   "execution_count": 29,
   "id": "4b39b766",
   "metadata": {
    "execution": {
     "iopub.execute_input": "2023-02-13T12:13:54.603884Z",
     "iopub.status.busy": "2023-02-13T12:13:54.602610Z",
     "iopub.status.idle": "2023-02-13T12:14:16.486962Z",
     "shell.execute_reply": "2023-02-13T12:14:16.485463Z"
    },
    "papermill": {
     "duration": 21.91661,
     "end_time": "2023-02-13T12:14:16.492583",
     "exception": false,
     "start_time": "2023-02-13T12:13:54.575973",
     "status": "completed"
    },
    "tags": []
   },
   "outputs": [
    {
     "name": "stderr",
     "output_type": "stream",
     "text": [
      "                                                                                \r"
     ]
    },
    {
     "name": "stdout",
     "output_type": "stream",
     "text": [
      "+----------------+----+-----+\n",
      "|prediction_label|1.0 |0.0  |\n",
      "+----------------+----+-----+\n",
      "|1.0             |2407|8623 |\n",
      "|0.0             |276 |36073|\n",
      "+----------------+----+-----+\n",
      "\n",
      "{'areaUnderROC': 0.9241005172742401, 'accuracy': 0.8121741699909243, 'weightedPrecision': 0.9485660977281498, 'weightedRecall': 0.8121741699909243, 'f1': 0.8596659608547074}\n"
     ]
    },
    {
     "data": {
      "text/plain": [
       "{'areaUnderROC': 0.9241005172742401,\n",
       " 'accuracy': 0.8121741699909243,\n",
       " 'weightedPrecision': 0.9485660977281498,\n",
       " 'weightedRecall': 0.8121741699909243,\n",
       " 'f1': 0.8596659608547074}"
      ]
     },
     "execution_count": 29,
     "metadata": {},
     "output_type": "execute_result"
    }
   ],
   "source": [
    "evaluate(predictions)"
   ]
  },
  {
   "cell_type": "markdown",
   "id": "e9eb1ce5",
   "metadata": {
    "papermill": {
     "duration": 0.024763,
     "end_time": "2023-02-13T12:14:16.549218",
     "exception": false,
     "start_time": "2023-02-13T12:14:16.524455",
     "status": "completed"
    },
    "tags": []
   },
   "source": [
    "## Tests "
   ]
  },
  {
   "cell_type": "code",
   "execution_count": 30,
   "id": "2628ceaa",
   "metadata": {
    "execution": {
     "iopub.execute_input": "2023-02-13T12:14:16.602892Z",
     "iopub.status.busy": "2023-02-13T12:14:16.601832Z",
     "iopub.status.idle": "2023-02-13T12:14:16.609522Z",
     "shell.execute_reply": "2023-02-13T12:14:16.607682Z"
    },
    "papermill": {
     "duration": 0.038023,
     "end_time": "2023-02-13T12:14:16.612518",
     "exception": false,
     "start_time": "2023-02-13T12:14:16.574495",
     "status": "completed"
    },
    "tags": []
   },
   "outputs": [],
   "source": [
    "def predict_and_evaluate(model):\n",
    "    predictions = fit_and_predict(model)\n",
    "    return evaluate(predictions)"
   ]
  },
  {
   "cell_type": "code",
   "execution_count": 31,
   "id": "4f38224b",
   "metadata": {
    "execution": {
     "iopub.execute_input": "2023-02-13T12:14:16.695966Z",
     "iopub.status.busy": "2023-02-13T12:14:16.695392Z",
     "iopub.status.idle": "2023-02-13T12:14:16.788065Z",
     "shell.execute_reply": "2023-02-13T12:14:16.786639Z"
    },
    "papermill": {
     "duration": 0.142013,
     "end_time": "2023-02-13T12:14:16.791857",
     "exception": false,
     "start_time": "2023-02-13T12:14:16.649844",
     "status": "completed"
    },
    "tags": []
   },
   "outputs": [],
   "source": [
    "from pyspark.ml.classification import LogisticRegression, DecisionTreeClassifier, RandomForestClassifier, GBTClassifier, NaiveBayes\n",
    "\n",
    "logreg = LogisticRegression(featuresCol=\"features\", labelCol=\"label\")\n",
    "dt = DecisionTreeClassifier(labelCol=\"label\", \n",
    "                            featuresCol=\"features\",\n",
    "                            maxDepth=5,\n",
    "                            maxBins=64)\n",
    "rf = RandomForestClassifier(labelCol='label', \n",
    "                            featuresCol='features',\n",
    "                            maxDepth=5,\n",
    "                            numTrees=10, \n",
    "                            maxBins=64)\n",
    "gbt = GBTClassifier(labelCol=\"label\", \n",
    "                    featuresCol=\"features\", \n",
    "                    maxIter=10, \n",
    "                    maxBins=64)\n",
    "# nb = NaiveBayes(smoothing=1.0, modelType=\"bernoulli\")\n",
    "\n",
    "classifiers = {\n",
    "    \"Logistic Regression\": logreg,\n",
    "    \"Decision Tree\": dt,\n",
    "    \"Random Forest\": rf,\n",
    "    \"Gradient-boosted tree\": gbt,\n",
    "#     \"Naïve Bayes\": nb\n",
    "}"
   ]
  },
  {
   "cell_type": "code",
   "execution_count": 32,
   "id": "187ff32f",
   "metadata": {
    "execution": {
     "iopub.execute_input": "2023-02-13T12:14:16.849785Z",
     "iopub.status.busy": "2023-02-13T12:14:16.849384Z",
     "iopub.status.idle": "2023-02-13T12:20:50.244950Z",
     "shell.execute_reply": "2023-02-13T12:20:50.243323Z"
    },
    "papermill": {
     "duration": 393.424803,
     "end_time": "2023-02-13T12:20:50.247823",
     "exception": false,
     "start_time": "2023-02-13T12:14:16.823020",
     "status": "completed"
    },
    "tags": []
   },
   "outputs": [
    {
     "name": "stdout",
     "output_type": "stream",
     "text": [
      "\n",
      "Classifier: Logistic Regression\n"
     ]
    },
    {
     "name": "stderr",
     "output_type": "stream",
     "text": [
      "                                                                                \r"
     ]
    },
    {
     "name": "stdout",
     "output_type": "stream",
     "text": [
      "+----------------+----+-----+\n",
      "|prediction_label|1.0 |0.0  |\n",
      "+----------------+----+-----+\n",
      "|1.0             |2349|7591 |\n",
      "|0.0             |334 |37105|\n",
      "+----------------+----+-----+\n",
      "\n",
      "{'areaUnderROC': 0.9316686984207586, 'accuracy': 0.8327318010088858, 'weightedPrecision': 0.9483378702307008, 'weightedRecall': 0.8327318010088858, 'f1': 0.873423839697516}\n",
      "\n",
      "Classifier: Decision Tree\n"
     ]
    },
    {
     "name": "stderr",
     "output_type": "stream",
     "text": [
      "                                                                                \r"
     ]
    },
    {
     "name": "stdout",
     "output_type": "stream",
     "text": [
      "+----------------+----+-----+\n",
      "|prediction_label|1.0 |0.0  |\n",
      "+----------------+----+-----+\n",
      "|1.0             |2448|10056|\n",
      "|0.0             |235 |34640|\n",
      "+----------------+----+-----+\n",
      "\n",
      "{'areaUnderROC': 0.8638368032426589, 'accuracy': 0.7827940648810654, 'weightedPrecision': 0.9481013378443416, 'weightedRecall': 0.7827940648810654, 'f1': 0.839620256206106}\n",
      "\n",
      "Classifier: Random Forest\n"
     ]
    },
    {
     "name": "stderr",
     "output_type": "stream",
     "text": [
      "                                                                                \r"
     ]
    },
    {
     "name": "stdout",
     "output_type": "stream",
     "text": [
      "+----------------+----+-----+\n",
      "|prediction_label|1.0 |0.0  |\n",
      "+----------------+----+-----+\n",
      "|1.0             |2407|8623 |\n",
      "|0.0             |276 |36073|\n",
      "+----------------+----+-----+\n",
      "\n",
      "{'areaUnderROC': 0.9241030439720129, 'accuracy': 0.8121741699909243, 'weightedPrecision': 0.9485660977281498, 'weightedRecall': 0.8121741699909243, 'f1': 0.8596659608547074}\n",
      "\n",
      "Classifier: Gradient-boosted tree\n"
     ]
    },
    {
     "name": "stderr",
     "output_type": "stream",
     "text": [
      "[Stage 917:==============>                                          (1 + 3) / 4]\r"
     ]
    },
    {
     "name": "stdout",
     "output_type": "stream",
     "text": [
      "+----------------+----+-----+\n",
      "|prediction_label|1.0 |0.0  |\n",
      "+----------------+----+-----+\n",
      "|1.0             |2376|7316 |\n",
      "|0.0             |307 |37380|\n",
      "+----------------+----+-----+\n",
      "\n",
      "{'areaUnderROC': 0.9375447467334884, 'accuracy': 0.8391059330082948, 'weightedPrecision': 0.949569293073513, 'weightedRecall': 0.8391059330082948, 'f1': 0.877825541233962}\n"
     ]
    },
    {
     "name": "stderr",
     "output_type": "stream",
     "text": [
      "                                                                                \r"
     ]
    }
   ],
   "source": [
    "stats = {}\n",
    "\n",
    "for name, classifier in classifiers.items(): \n",
    "    print(f\"\\nClassifier: {name}\")\n",
    "    history = predict_and_evaluate(model=classifier)\n",
    "    stats[name] = history"
   ]
  },
  {
   "cell_type": "code",
   "execution_count": 33,
   "id": "15752e29",
   "metadata": {
    "execution": {
     "iopub.execute_input": "2023-02-13T12:20:50.355440Z",
     "iopub.status.busy": "2023-02-13T12:20:50.355045Z",
     "iopub.status.idle": "2023-02-13T12:20:50.361457Z",
     "shell.execute_reply": "2023-02-13T12:20:50.360192Z"
    },
    "papermill": {
     "duration": 0.063355,
     "end_time": "2023-02-13T12:20:50.363653",
     "exception": false,
     "start_time": "2023-02-13T12:20:50.300298",
     "status": "completed"
    },
    "tags": []
   },
   "outputs": [],
   "source": [
    "from prettytable import PrettyTable\n",
    "\n",
    "def print_stats(stats):\n",
    "    table = PrettyTable()\n",
    "    table.field_names = [\"Classifier\", *metrics]\n",
    "\n",
    "    for classifier, _metrics in stats.items():            \n",
    "        values = [f\"{(_metrics[metric]*100):.2f} %\" for metric in metrics]\n",
    "        table.add_row([classifier, *values])\n",
    "\n",
    "    print(table)"
   ]
  },
  {
   "cell_type": "code",
   "execution_count": 34,
   "id": "4611fd3c",
   "metadata": {
    "execution": {
     "iopub.execute_input": "2023-02-13T12:20:50.469825Z",
     "iopub.status.busy": "2023-02-13T12:20:50.469222Z",
     "iopub.status.idle": "2023-02-13T12:20:50.476392Z",
     "shell.execute_reply": "2023-02-13T12:20:50.475052Z"
    },
    "papermill": {
     "duration": 0.06269,
     "end_time": "2023-02-13T12:20:50.478700",
     "exception": false,
     "start_time": "2023-02-13T12:20:50.416010",
     "status": "completed"
    },
    "tags": []
   },
   "outputs": [
    {
     "name": "stdout",
     "output_type": "stream",
     "text": [
      "+-----------------------+----------+-------------------+----------------+---------+--------------+\n",
      "|       Classifier      | accuracy | weightedPrecision | weightedRecall |    f1   | areaUnderROC |\n",
      "+-----------------------+----------+-------------------+----------------+---------+--------------+\n",
      "|  Logistic Regression  | 83.27 %  |      94.83 %      |    83.27 %     | 87.34 % |   93.17 %    |\n",
      "|     Decision Tree     | 78.28 %  |      94.81 %      |    78.28 %     | 83.96 % |   86.38 %    |\n",
      "|     Random Forest     | 81.22 %  |      94.86 %      |    81.22 %     | 85.97 % |   92.41 %    |\n",
      "| Gradient-boosted tree | 83.91 %  |      94.96 %      |    83.91 %     | 87.78 % |   93.75 %    |\n",
      "+-----------------------+----------+-------------------+----------------+---------+--------------+\n"
     ]
    }
   ],
   "source": [
    "print_stats(stats)"
   ]
  }
 ],
 "metadata": {
  "kernelspec": {
   "display_name": "Python 3",
   "language": "python",
   "name": "python3"
  },
  "language_info": {
   "codemirror_mode": {
    "name": "ipython",
    "version": 3
   },
   "file_extension": ".py",
   "mimetype": "text/x-python",
   "name": "python",
   "nbconvert_exporter": "python",
   "pygments_lexer": "ipython3",
   "version": "3.7.12"
  },
  "papermill": {
   "default_parameters": {},
   "duration": 694.708342,
   "end_time": "2023-02-13T12:20:53.157640",
   "environment_variables": {},
   "exception": null,
   "input_path": "__notebook__.ipynb",
   "output_path": "__notebook__.ipynb",
   "parameters": {},
   "start_time": "2023-02-13T12:09:18.449298",
   "version": "2.3.4"
  }
 },
 "nbformat": 4,
 "nbformat_minor": 5
}
